{
 "cells": [
  {
   "cell_type": "code",
   "execution_count": 3,
   "metadata": {},
   "outputs": [
    {
     "name": "stderr",
     "output_type": "stream",
     "text": [
      "Installing package into 'C:/Users/Taraneh/AppData/Local/R/win-library/4.3'\n",
      "(as 'lib' is unspecified)\n",
      "\n"
     ]
    },
    {
     "name": "stdout",
     "output_type": "stream",
     "text": [
      "package 'tree' successfully unpacked and MD5 sums checked\n",
      "\n",
      "The downloaded binary packages are in\n",
      "\tC:\\Users\\Taraneh\\AppData\\Local\\Temp\\RtmpKuKBZJ\\downloaded_packages\n"
     ]
    },
    {
     "name": "stderr",
     "output_type": "stream",
     "text": [
      "Warning message:\n",
      "\"package 'tree' was built under R version 4.3.2\"\n",
      "Installing package into 'C:/Users/Taraneh/AppData/Local/R/win-library/4.3'\n",
      "(as 'lib' is unspecified)\n",
      "\n"
     ]
    },
    {
     "name": "stdout",
     "output_type": "stream",
     "text": [
      "package 'ISLR' successfully unpacked and MD5 sums checked\n",
      "\n",
      "The downloaded binary packages are in\n",
      "\tC:\\Users\\Taraneh\\AppData\\Local\\Temp\\RtmpKuKBZJ\\downloaded_packages\n"
     ]
    },
    {
     "name": "stderr",
     "output_type": "stream",
     "text": [
      "Warning message:\n",
      "\"package 'ISLR' was built under R version 4.3.2\"\n"
     ]
    },
    {
     "data": {
      "text/html": [
       "<style>\n",
       ".list-inline {list-style: none; margin:0; padding: 0}\n",
       ".list-inline>li {display: inline-block}\n",
       ".list-inline>li:not(:last-child)::after {content: \"\\00b7\"; padding: 0 .5ex}\n",
       "</style>\n",
       "<ol class=list-inline><li>'Sales'</li><li>'CompPrice'</li><li>'Income'</li><li>'Advertising'</li><li>'Population'</li><li>'Price'</li><li>'ShelveLoc'</li><li>'Age'</li><li>'Education'</li><li>'Urban'</li><li>'US'</li></ol>\n"
      ],
      "text/latex": [
       "\\begin{enumerate*}\n",
       "\\item 'Sales'\n",
       "\\item 'CompPrice'\n",
       "\\item 'Income'\n",
       "\\item 'Advertising'\n",
       "\\item 'Population'\n",
       "\\item 'Price'\n",
       "\\item 'ShelveLoc'\n",
       "\\item 'Age'\n",
       "\\item 'Education'\n",
       "\\item 'Urban'\n",
       "\\item 'US'\n",
       "\\end{enumerate*}\n"
      ],
      "text/markdown": [
       "1. 'Sales'\n",
       "2. 'CompPrice'\n",
       "3. 'Income'\n",
       "4. 'Advertising'\n",
       "5. 'Population'\n",
       "6. 'Price'\n",
       "7. 'ShelveLoc'\n",
       "8. 'Age'\n",
       "9. 'Education'\n",
       "10. 'Urban'\n",
       "11. 'US'\n",
       "\n",
       "\n"
      ],
      "text/plain": [
       " [1] \"Sales\"       \"CompPrice\"   \"Income\"      \"Advertising\" \"Population\" \n",
       " [6] \"Price\"       \"ShelveLoc\"   \"Age\"         \"Education\"   \"Urban\"      \n",
       "[11] \"US\"         "
      ]
     },
     "metadata": {},
     "output_type": "display_data"
    },
    {
     "data": {
      "text/plain": [
       "\n",
       "Classification tree:\n",
       "tree(formula = High ~ . - Sales, data = Carseats)\n",
       "Variables actually used in tree construction:\n",
       "[1] \"ShelveLoc\"   \"Price\"       \"Income\"      \"CompPrice\"   \"Population\" \n",
       "[6] \"Advertising\" \"Age\"         \"US\"         \n",
       "Number of terminal nodes:  27 \n",
       "Residual mean deviance:  0.4575 = 170.7 / 373 \n",
       "Misclassification error rate: 0.09 = 36 / 400 "
      ]
     },
     "metadata": {},
     "output_type": "display_data"
    },
    {
     "data": {
      "text/plain": [
       "         High.test\n",
       "tree.pred  No Yes\n",
       "      No  104  33\n",
       "      Yes  13  50"
      ]
     },
     "metadata": {},
     "output_type": "display_data"
    },
    {
     "data": {
      "text/html": [
       "<style>\n",
       ".list-inline {list-style: none; margin:0; padding: 0}\n",
       ".list-inline>li {display: inline-block}\n",
       ".list-inline>li:not(:last-child)::after {content: \"\\00b7\"; padding: 0 .5ex}\n",
       "</style>\n",
       "<ol class=list-inline><li>'size'</li><li>'dev'</li><li>'k'</li><li>'method'</li></ol>\n"
      ],
      "text/latex": [
       "\\begin{enumerate*}\n",
       "\\item 'size'\n",
       "\\item 'dev'\n",
       "\\item 'k'\n",
       "\\item 'method'\n",
       "\\end{enumerate*}\n"
      ],
      "text/markdown": [
       "1. 'size'\n",
       "2. 'dev'\n",
       "3. 'k'\n",
       "4. 'method'\n",
       "\n",
       "\n"
      ],
      "text/plain": [
       "[1] \"size\"   \"dev\"    \"k\"      \"method\""
      ]
     },
     "metadata": {},
     "output_type": "display_data"
    },
    {
     "data": {
      "text/html": [
       "<style>\n",
       ".list-inline {list-style: none; margin:0; padding: 0}\n",
       ".list-inline>li {display: inline-block}\n",
       ".list-inline>li:not(:last-child)::after {content: \"\\00b7\"; padding: 0 .5ex}\n",
       "</style>\n",
       "<ol class=list-inline><li>21</li><li>19</li><li>14</li><li>9</li><li>8</li><li>5</li><li>3</li><li>2</li><li>1</li></ol>\n"
      ],
      "text/latex": [
       "\\begin{enumerate*}\n",
       "\\item 21\n",
       "\\item 19\n",
       "\\item 14\n",
       "\\item 9\n",
       "\\item 8\n",
       "\\item 5\n",
       "\\item 3\n",
       "\\item 2\n",
       "\\item 1\n",
       "\\end{enumerate*}\n"
      ],
      "text/markdown": [
       "1. 21\n",
       "2. 19\n",
       "3. 14\n",
       "4. 9\n",
       "5. 8\n",
       "6. 5\n",
       "7. 3\n",
       "8. 2\n",
       "9. 1\n",
       "\n",
       "\n"
      ],
      "text/plain": [
       "[1] 21 19 14  9  8  5  3  2  1"
      ]
     },
     "metadata": {},
     "output_type": "display_data"
    },
    {
     "data": {
      "text/html": [
       "<style>\n",
       ".list-inline {list-style: none; margin:0; padding: 0}\n",
       ".list-inline>li {display: inline-block}\n",
       ".list-inline>li:not(:last-child)::after {content: \"\\00b7\"; padding: 0 .5ex}\n",
       "</style>\n",
       "<ol class=list-inline><li>74</li><li>76</li><li>81</li><li>81</li><li>75</li><li>77</li><li>78</li><li>85</li><li>81</li></ol>\n"
      ],
      "text/latex": [
       "\\begin{enumerate*}\n",
       "\\item 74\n",
       "\\item 76\n",
       "\\item 81\n",
       "\\item 81\n",
       "\\item 75\n",
       "\\item 77\n",
       "\\item 78\n",
       "\\item 85\n",
       "\\item 81\n",
       "\\end{enumerate*}\n"
      ],
      "text/markdown": [
       "1. 74\n",
       "2. 76\n",
       "3. 81\n",
       "4. 81\n",
       "5. 75\n",
       "6. 77\n",
       "7. 78\n",
       "8. 85\n",
       "9. 81\n",
       "\n",
       "\n"
      ],
      "text/plain": [
       "[1] 74 76 81 81 75 77 78 85 81"
      ]
     },
     "metadata": {},
     "output_type": "display_data"
    },
    {
     "data": {
      "text/html": [
       "<style>\n",
       ".list-inline {list-style: none; margin:0; padding: 0}\n",
       ".list-inline>li {display: inline-block}\n",
       ".list-inline>li:not(:last-child)::after {content: \"\\00b7\"; padding: 0 .5ex}\n",
       "</style>\n",
       "<ol class=list-inline><li>-Inf</li><li>0</li><li>1</li><li>1.4</li><li>2</li><li>3</li><li>4</li><li>9</li><li>18</li></ol>\n"
      ],
      "text/latex": [
       "\\begin{enumerate*}\n",
       "\\item -Inf\n",
       "\\item 0\n",
       "\\item 1\n",
       "\\item 1.4\n",
       "\\item 2\n",
       "\\item 3\n",
       "\\item 4\n",
       "\\item 9\n",
       "\\item 18\n",
       "\\end{enumerate*}\n"
      ],
      "text/markdown": [
       "1. -Inf\n",
       "2. 0\n",
       "3. 1\n",
       "4. 1.4\n",
       "5. 2\n",
       "6. 3\n",
       "7. 4\n",
       "8. 9\n",
       "9. 18\n",
       "\n",
       "\n"
      ],
      "text/plain": [
       "[1] -Inf  0.0  1.0  1.4  2.0  3.0  4.0  9.0 18.0"
      ]
     },
     "metadata": {},
     "output_type": "display_data"
    },
    {
     "data": {
      "text/html": [
       "'misclass'"
      ],
      "text/latex": [
       "'misclass'"
      ],
      "text/markdown": [
       "'misclass'"
      ],
      "text/plain": [
       "[1] \"misclass\""
      ]
     },
     "metadata": {},
     "output_type": "display_data"
    },
    {
     "data": {
      "image/png": "[encoded data removed]",
      "text/plain": [
       "plot without title"
      ]
     },
     "metadata": {
      "image/png": {
       "height": 420,
       "width": 420
      }
     },
     "output_type": "display_data"
    },
    {
     "data": {
      "text/plain": [
       "         High.test\n",
       "tree.pred No Yes\n",
       "      No  97  25\n",
       "      Yes 20  58"
      ]
     },
     "metadata": {},
     "output_type": "display_data"
    },
    {
     "data": {
      "image/png": "[encoded data removed]",
      "text/plain": [
       "plot without title"
      ]
     },
     "metadata": {
      "image/png": {
       "height": 420,
       "width": 420
      }
     },
     "output_type": "display_data"
    },
    {
     "data": {
      "text/plain": [
       "         High.test\n",
       "tree.pred  No Yes\n",
       "      No  102  30\n",
       "      Yes  15  53"
      ]
     },
     "metadata": {},
     "output_type": "display_data"
    },
    {
     "name": "stderr",
     "output_type": "stream",
     "text": [
      "Warning message:\n",
      "\"package 'MASS' was built under R version 4.3.1\"\n"
     ]
    },
    {
     "data": {
      "text/html": [
       "<style>\n",
       ".list-inline {list-style: none; margin:0; padding: 0}\n",
       ".list-inline>li {display: inline-block}\n",
       ".list-inline>li:not(:last-child)::after {content: \"\\00b7\"; padding: 0 .5ex}\n",
       "</style>\n",
       "<ol class=list-inline><li>'crim'</li><li>'zn'</li><li>'indus'</li><li>'chas'</li><li>'nox'</li><li>'rm'</li><li>'age'</li><li>'dis'</li><li>'rad'</li><li>'tax'</li><li>'ptratio'</li><li>'black'</li><li>'lstat'</li><li>'medv'</li></ol>\n"
      ],
      "text/latex": [
       "\\begin{enumerate*}\n",
       "\\item 'crim'\n",
       "\\item 'zn'\n",
       "\\item 'indus'\n",
       "\\item 'chas'\n",
       "\\item 'nox'\n",
       "\\item 'rm'\n",
       "\\item 'age'\n",
       "\\item 'dis'\n",
       "\\item 'rad'\n",
       "\\item 'tax'\n",
       "\\item 'ptratio'\n",
       "\\item 'black'\n",
       "\\item 'lstat'\n",
       "\\item 'medv'\n",
       "\\end{enumerate*}\n"
      ],
      "text/markdown": [
       "1. 'crim'\n",
       "2. 'zn'\n",
       "3. 'indus'\n",
       "4. 'chas'\n",
       "5. 'nox'\n",
       "6. 'rm'\n",
       "7. 'age'\n",
       "8. 'dis'\n",
       "9. 'rad'\n",
       "10. 'tax'\n",
       "11. 'ptratio'\n",
       "12. 'black'\n",
       "13. 'lstat'\n",
       "14. 'medv'\n",
       "\n",
       "\n"
      ],
      "text/plain": [
       " [1] \"crim\"    \"zn\"      \"indus\"   \"chas\"    \"nox\"     \"rm\"      \"age\"    \n",
       " [8] \"dis\"     \"rad\"     \"tax\"     \"ptratio\" \"black\"   \"lstat\"   \"medv\"   "
      ]
     },
     "metadata": {},
     "output_type": "display_data"
    },
    {
     "data": {
      "text/plain": [
       "\n",
       "Regression tree:\n",
       "tree(formula = medv ~ ., data = Boston, subset = train)\n",
       "Variables actually used in tree construction:\n",
       "[1] \"rm\"    \"lstat\" \"crim\"  \"age\"  \n",
       "Number of terminal nodes:  7 \n",
       "Residual mean deviance:  10.38 = 2555 / 246 \n",
       "Distribution of residuals:\n",
       "    Min.  1st Qu.   Median     Mean  3rd Qu.     Max. \n",
       "-10.1800  -1.7770  -0.1775   0.0000   1.9230  16.5800 "
      ]
     },
     "metadata": {},
     "output_type": "display_data"
    },
    {
     "data": {
      "image/png": "[encoded data removed]",
      "text/plain": [
       "plot without title"
      ]
     },
     "metadata": {
      "image/png": {
       "height": 420,
       "width": 420
      }
     },
     "output_type": "display_data"
    },
    {
     "data": {
      "image/png": "[encoded data removed]",
      "text/plain": [
       "plot without title"
      ]
     },
     "metadata": {
      "image/png": {
       "height": 420,
       "width": 420
      }
     },
     "output_type": "display_data"
    },
    {
     "data": {
      "text/html": [
       "35.2868818594623"
      ],
      "text/latex": [
       "35.2868818594623"
      ],
      "text/markdown": [
       "35.2868818594623"
      ],
      "text/plain": [
       "[1] 35.28688"
      ]
     },
     "metadata": {},
     "output_type": "display_data"
    },
    {
     "name": "stderr",
     "output_type": "stream",
     "text": [
      "Installing package into 'C:/Users/Taraneh/AppData/Local/R/win-library/4.3'\n",
      "(as 'lib' is unspecified)\n",
      "\n"
     ]
    },
    {
     "name": "stdout",
     "output_type": "stream",
     "text": [
      "package 'randomForest' successfully unpacked and MD5 sums checked\n",
      "\n",
      "The downloaded binary packages are in\n",
      "\tC:\\Users\\Taraneh\\AppData\\Local\\Temp\\RtmpKuKBZJ\\downloaded_packages\n"
     ]
    },
    {
     "name": "stderr",
     "output_type": "stream",
     "text": [
      "Warning message:\n",
      "\"package 'randomForest' was built under R version 4.3.2\"\n",
      "randomForest 4.7-1.1\n",
      "\n",
      "Type rfNews() to see new features/changes/bug fixes.\n",
      "\n"
     ]
    },
    {
     "data": {
      "text/plain": [
       "\n",
       "Call:\n",
       " randomForest(formula = medv ~ ., data = Boston, mtry = 13, importance = TRUE,      subset = train) \n",
       "               Type of random forest: regression\n",
       "                     Number of trees: 500\n",
       "No. of variables tried at each split: 13\n",
       "\n",
       "          Mean of squared residuals: 11.39601\n",
       "                    % Var explained: 85.17"
      ]
     },
     "metadata": {},
     "output_type": "display_data"
    },
    {
     "data": {
      "text/html": [
       "23.5927297079061"
      ],
      "text/latex": [
       "23.5927297079061"
      ],
      "text/markdown": [
       "23.5927297079061"
      ],
      "text/plain": [
       "[1] 23.59273"
      ]
     },
     "metadata": {},
     "output_type": "display_data"
    },
    {
     "data": {
      "text/html": [
       "23.6671575152042"
      ],
      "text/latex": [
       "23.6671575152042"
      ],
      "text/markdown": [
       "23.6671575152042"
      ],
      "text/plain": [
       "[1] 23.66716"
      ]
     },
     "metadata": {},
     "output_type": "display_data"
    },
    {
     "data": {
      "text/html": [
       "19.6202073910648"
      ],
      "text/latex": [
       "19.6202073910648"
      ],
      "text/markdown": [
       "19.6202073910648"
      ],
      "text/plain": [
       "[1] 19.62021"
      ]
     },
     "metadata": {},
     "output_type": "display_data"
    },
    {
     "data": {
      "text/html": [
       "<table class=\"dataframe\">\n",
       "<caption>A matrix: 13 × 2 of type dbl</caption>\n",
       "<thead>\n",
       "\t<tr><th></th><th scope=col>%IncMSE</th><th scope=col>IncNodePurity</th></tr>\n",
       "</thead>\n",
       "<tbody>\n",
       "\t<tr><th scope=row>crim</th><td>16.697017</td><td>1076.08786</td></tr>\n",
       "\t<tr><th scope=row>zn</th><td> 3.625784</td><td>  88.35342</td></tr>\n",
       "\t<tr><th scope=row>indus</th><td> 4.968621</td><td> 609.53356</td></tr>\n",
       "\t<tr><th scope=row>chas</th><td> 1.061432</td><td>  52.21793</td></tr>\n",
       "\t<tr><th scope=row>nox</th><td>13.518179</td><td> 709.87339</td></tr>\n",
       "\t<tr><th scope=row>rm</th><td>32.343305</td><td>7857.65451</td></tr>\n",
       "\t<tr><th scope=row>age</th><td>13.272498</td><td> 612.21424</td></tr>\n",
       "\t<tr><th scope=row>dis</th><td> 9.032477</td><td> 714.94674</td></tr>\n",
       "\t<tr><th scope=row>rad</th><td> 2.878434</td><td>  95.80598</td></tr>\n",
       "\t<tr><th scope=row>tax</th><td> 9.118801</td><td> 364.92479</td></tr>\n",
       "\t<tr><th scope=row>ptratio</th><td> 8.467062</td><td> 823.93341</td></tr>\n",
       "\t<tr><th scope=row>black</th><td> 7.579482</td><td> 275.62272</td></tr>\n",
       "\t<tr><th scope=row>lstat</th><td>27.129817</td><td>6027.63740</td></tr>\n",
       "</tbody>\n",
       "</table>\n"
      ],
      "text/latex": [
       "A matrix: 13 × 2 of type dbl\n",
       "\\begin{tabular}{r|ll}\n",
       "  & \\%IncMSE & IncNodePurity\\\\\n",
       "\\hline\n",
       "\tcrim & 16.697017 & 1076.08786\\\\\n",
       "\tzn &  3.625784 &   88.35342\\\\\n",
       "\tindus &  4.968621 &  609.53356\\\\\n",
       "\tchas &  1.061432 &   52.21793\\\\\n",
       "\tnox & 13.518179 &  709.87339\\\\\n",
       "\trm & 32.343305 & 7857.65451\\\\\n",
       "\tage & 13.272498 &  612.21424\\\\\n",
       "\tdis &  9.032477 &  714.94674\\\\\n",
       "\trad &  2.878434 &   95.80598\\\\\n",
       "\ttax &  9.118801 &  364.92479\\\\\n",
       "\tptratio &  8.467062 &  823.93341\\\\\n",
       "\tblack &  7.579482 &  275.62272\\\\\n",
       "\tlstat & 27.129817 & 6027.63740\\\\\n",
       "\\end{tabular}\n"
      ],
      "text/markdown": [
       "\n",
       "A matrix: 13 × 2 of type dbl\n",
       "\n",
       "| <!--/--> | %IncMSE | IncNodePurity |\n",
       "|---|---|---|\n",
       "| crim | 16.697017 | 1076.08786 |\n",
       "| zn |  3.625784 |   88.35342 |\n",
       "| indus |  4.968621 |  609.53356 |\n",
       "| chas |  1.061432 |   52.21793 |\n",
       "| nox | 13.518179 |  709.87339 |\n",
       "| rm | 32.343305 | 7857.65451 |\n",
       "| age | 13.272498 |  612.21424 |\n",
       "| dis |  9.032477 |  714.94674 |\n",
       "| rad |  2.878434 |   95.80598 |\n",
       "| tax |  9.118801 |  364.92479 |\n",
       "| ptratio |  8.467062 |  823.93341 |\n",
       "| black |  7.579482 |  275.62272 |\n",
       "| lstat | 27.129817 | 6027.63740 |\n",
       "\n"
      ],
      "text/plain": [
       "        %IncMSE   IncNodePurity\n",
       "crim    16.697017 1076.08786   \n",
       "zn       3.625784   88.35342   \n",
       "indus    4.968621  609.53356   \n",
       "chas     1.061432   52.21793   \n",
       "nox     13.518179  709.87339   \n",
       "rm      32.343305 7857.65451   \n",
       "age     13.272498  612.21424   \n",
       "dis      9.032477  714.94674   \n",
       "rad      2.878434   95.80598   \n",
       "tax      9.118801  364.92479   \n",
       "ptratio  8.467062  823.93341   \n",
       "black    7.579482  275.62272   \n",
       "lstat   27.129817 6027.63740   "
      ]
     },
     "metadata": {},
     "output_type": "display_data"
    },
    {
     "data": {
      "image/png": "[encoded data removed]",
      "text/plain": [
       "plot without title"
      ]
     },
     "metadata": {
      "image/png": {
       "height": 420,
       "width": 420
      }
     },
     "output_type": "display_data"
    },
    {
     "data": {
      "image/png": "[encoded data removed]",
      "text/plain": [
       "plot without title"
      ]
     },
     "metadata": {
      "image/png": {
       "height": 420,
       "width": 420
      }
     },
     "output_type": "display_data"
    },
    {
     "name": "stderr",
     "output_type": "stream",
     "text": [
      "Installing package into 'C:/Users/Taraneh/AppData/Local/R/win-library/4.3'\n",
      "(as 'lib' is unspecified)\n",
      "\n"
     ]
    },
    {
     "name": "stdout",
     "output_type": "stream",
     "text": [
      "package 'gbm' successfully unpacked and MD5 sums checked\n",
      "\n",
      "The downloaded binary packages are in\n",
      "\tC:\\Users\\Taraneh\\AppData\\Local\\Temp\\RtmpKuKBZJ\\downloaded_packages\n"
     ]
    },
    {
     "name": "stderr",
     "output_type": "stream",
     "text": [
      "Warning message:\n",
      "\"package 'gbm' was built under R version 4.3.2\"\n",
      "Loaded gbm 2.1.9\n",
      "\n",
      "This version of gbm is no longer under development. Consider transitioning to gbm3, https://github.com/gbm-developers/gbm3\n",
      "\n"
     ]
    },
    {
     "data": {
      "text/html": [
       "<table class=\"dataframe\">\n",
       "<caption>A data.frame: 13 × 2</caption>\n",
       "<thead>\n",
       "\t<tr><th></th><th scope=col>var</th><th scope=col>rel.inf</th></tr>\n",
       "\t<tr><th></th><th scope=col>&lt;chr&gt;</th><th scope=col>&lt;dbl&gt;</th></tr>\n",
       "</thead>\n",
       "<tbody>\n",
       "\t<tr><th scope=row>rm</th><td>rm     </td><td>43.9919329</td></tr>\n",
       "\t<tr><th scope=row>lstat</th><td>lstat  </td><td>33.1216941</td></tr>\n",
       "\t<tr><th scope=row>crim</th><td>crim   </td><td> 4.2604167</td></tr>\n",
       "\t<tr><th scope=row>dis</th><td>dis    </td><td> 4.0111090</td></tr>\n",
       "\t<tr><th scope=row>nox</th><td>nox    </td><td> 3.4353017</td></tr>\n",
       "\t<tr><th scope=row>black</th><td>black  </td><td> 2.8267554</td></tr>\n",
       "\t<tr><th scope=row>age</th><td>age    </td><td> 2.6113938</td></tr>\n",
       "\t<tr><th scope=row>ptratio</th><td>ptratio</td><td> 2.5403035</td></tr>\n",
       "\t<tr><th scope=row>tax</th><td>tax    </td><td> 1.4565654</td></tr>\n",
       "\t<tr><th scope=row>indus</th><td>indus  </td><td> 0.8008740</td></tr>\n",
       "\t<tr><th scope=row>rad</th><td>rad    </td><td> 0.6546400</td></tr>\n",
       "\t<tr><th scope=row>zn</th><td>zn     </td><td> 0.1446149</td></tr>\n",
       "\t<tr><th scope=row>chas</th><td>chas   </td><td> 0.1443986</td></tr>\n",
       "</tbody>\n",
       "</table>\n"
      ],
      "text/latex": [
       "A data.frame: 13 × 2\n",
       "\\begin{tabular}{r|ll}\n",
       "  & var & rel.inf\\\\\n",
       "  & <chr> & <dbl>\\\\\n",
       "\\hline\n",
       "\trm & rm      & 43.9919329\\\\\n",
       "\tlstat & lstat   & 33.1216941\\\\\n",
       "\tcrim & crim    &  4.2604167\\\\\n",
       "\tdis & dis     &  4.0111090\\\\\n",
       "\tnox & nox     &  3.4353017\\\\\n",
       "\tblack & black   &  2.8267554\\\\\n",
       "\tage & age     &  2.6113938\\\\\n",
       "\tptratio & ptratio &  2.5403035\\\\\n",
       "\ttax & tax     &  1.4565654\\\\\n",
       "\tindus & indus   &  0.8008740\\\\\n",
       "\trad & rad     &  0.6546400\\\\\n",
       "\tzn & zn      &  0.1446149\\\\\n",
       "\tchas & chas    &  0.1443986\\\\\n",
       "\\end{tabular}\n"
      ],
      "text/markdown": [
       "\n",
       "A data.frame: 13 × 2\n",
       "\n",
       "| <!--/--> | var &lt;chr&gt; | rel.inf &lt;dbl&gt; |\n",
       "|---|---|---|\n",
       "| rm | rm      | 43.9919329 |\n",
       "| lstat | lstat   | 33.1216941 |\n",
       "| crim | crim    |  4.2604167 |\n",
       "| dis | dis     |  4.0111090 |\n",
       "| nox | nox     |  3.4353017 |\n",
       "| black | black   |  2.8267554 |\n",
       "| age | age     |  2.6113938 |\n",
       "| ptratio | ptratio |  2.5403035 |\n",
       "| tax | tax     |  1.4565654 |\n",
       "| indus | indus   |  0.8008740 |\n",
       "| rad | rad     |  0.6546400 |\n",
       "| zn | zn      |  0.1446149 |\n",
       "| chas | chas    |  0.1443986 |\n",
       "\n"
      ],
      "text/plain": [
       "        var     rel.inf   \n",
       "rm      rm      43.9919329\n",
       "lstat   lstat   33.1216941\n",
       "crim    crim     4.2604167\n",
       "dis     dis      4.0111090\n",
       "nox     nox      3.4353017\n",
       "black   black    2.8267554\n",
       "age     age      2.6113938\n",
       "ptratio ptratio  2.5403035\n",
       "tax     tax      1.4565654\n",
       "indus   indus    0.8008740\n",
       "rad     rad      0.6546400\n",
       "zn      zn       0.1446149\n",
       "chas    chas     0.1443986"
      ]
     },
     "metadata": {},
     "output_type": "display_data"
    },
    {
     "data": {
      "image/png": "[encoded data removed]",
      "text/plain": [
       "plot without title"
      ]
     },
     "metadata": {
      "image/png": {
       "height": 420,
       "width": 420
      }
     },
     "output_type": "display_data"
    },
    {
     "data": {
      "image/png": "[encoded data removed]",
      "text/plain": [
       "plot without title"
      ]
     },
     "metadata": {
      "image/png": {
       "height": 420,
       "width": 420
      }
     },
     "output_type": "display_data"
    },
    {
     "data": {
      "image/png": "[encoded data removed]",
      "text/plain": [
       "plot without title"
      ]
     },
     "metadata": {
      "image/png": {
       "height": 420,
       "width": 420
      }
     },
     "output_type": "display_data"
    },
    {
     "data": {
      "text/html": [
       "18.8470923079959"
      ],
      "text/latex": [
       "18.8470923079959"
      ],
      "text/markdown": [
       "18.8470923079959"
      ],
      "text/plain": [
       "[1] 18.84709"
      ]
     },
     "metadata": {},
     "output_type": "display_data"
    },
    {
     "data": {
      "text/html": [
       "18.3345451839923"
      ],
      "text/latex": [
       "18.3345451839923"
      ],
      "text/markdown": [
       "18.3345451839923"
      ],
      "text/plain": [
       "[1] 18.33455"
      ]
     },
     "metadata": {},
     "output_type": "display_data"
    },
    {
     "data": {
      "image/png": "[encoded data removed]",
      "text/plain": [
       "plot without title"
      ]
     },
     "metadata": {
      "image/png": {
       "height": 420,
       "width": 420
      }
     },
     "output_type": "display_data"
    }
   ],
   "source": [
    "\n",
    "\n",
    "## STAT 712 Lab:  tree-based methods.\n",
    "\n",
    "\n",
    "\t#####################\n",
    "\t##### decision trees\n",
    "\t########################\n",
    "\n",
    "\n",
    "\t## Fitting Classification Trees\n",
    "\n",
    "\n",
    "\tinstall.packages(\"tree\")  ## used to construct classification and regression trees.\n",
    "\tlibrary(tree)\n",
    "\n",
    "\n",
    "\t## use the Carseats data: Sales is the continuous response variable. We convert it into binary variables.\n",
    "\n",
    "\tinstall.packages(\"ISLR\")\n",
    "\tlibrary(ISLR)\n",
    "\tattach(Carseats)\n",
    "\tnames(Carseats)\n",
    "\tHigh=ifelse(Sales<=8,\"No\",\"Yes\")   ## ifelse():  Sales<=8 is converted into No; otherwise it is converted to Yes.\n",
    "\n",
    "\n",
    "\t## Merge the variable High into the original data.\n",
    "\n",
    "\tCarseats=data.frame(Carseats,High)\n",
    "\n",
    "\tCarseats$High=as.factor(Carseats$High)   ### convert the variable to factor, otherwise, error occurs\n",
    "\n",
    "\t## tree():  fit a classification tree, syntax is similar to lm();\n",
    "\n",
    "\ttree.carseats=tree(High~.-Sales,Carseats) ## use predictors except for Sales to predict High.\n",
    "\n",
    "\tsummary(tree.carseats)  ## show the result of fitting models such as training error, number of terminal nodes\n",
    "\n",
    "\n",
    "\tplot(tree.carseats )   ## visualize the tree\n",
    "\ttext(tree.carseats ,pretty =0)  ## pretty=0: includes category names of categorical variable.\n",
    "\n",
    "\n",
    "\t## evaluate the test error\n",
    "\n",
    "\tset.seed (2)\n",
    "\ttrain=sample(1: nrow(Carseats ), 200)    # training data\n",
    "\tCarseats.test=Carseats[-train ,]\n",
    "\tHigh.test=High[-train]\n",
    "\n",
    "\ttree.carseats =tree(High~.-Sales ,Carseats,subset =train )\n",
    "\ttree.pred=predict(tree.carseats ,Carseats.test ,type =\"class\")\n",
    "\ttable(tree.pred ,High.test)\n",
    "\n",
    "\n",
    "\n",
    "\n",
    "\t## prune the tree or not\n",
    "\t## cv.tree():  cross-validation\n",
    "\n",
    "\tset.seed (3)\n",
    "\tcv.carseats =cv.tree(tree.carseats ,FUN=prune.misclass )   ## FUN=prune.misclass: use misclassification to guide cross-validation and pruning.\n",
    "\tnames(cv.carseats)\n",
    "\tcv.carseats$size  ## number of terminal nodes in each tree\n",
    "\n",
    "\tcv.carseats$dev\t## cross-validation error rate,  a tree with 9 terminal nodes has the smallest error.\n",
    "\n",
    "\tcv.carseats$k     ## alpha  in pruning tree algorithm in slides\n",
    "\n",
    "\tcv.carseats$method\n",
    "\n",
    "\n",
    "\n",
    "\t## plot size and k\n",
    "\n",
    "\tpar(mfrow =c(1,2))\n",
    "\tplot(cv.carseats$size ,cv.carseats$dev ,type=\"b\")\n",
    "\tplot(cv.carseats$k ,cv.carseats$dev ,type=\"b\")\n",
    "\n",
    "\n",
    "\n",
    "\t## use prun.misclass() to get the 9 terminal nodes tree.\n",
    "\tprune.carseats =prune.misclass (tree.carseats ,best =9)\n",
    "\tplot(prune.carseats )\n",
    "\ttext(prune.carseats ,pretty =0)\n",
    "\n",
    "\n",
    "\t## evaluate this tree\n",
    "\ttree.pred=predict(prune.carseats , Carseats.test ,type=\"class\")\n",
    "\ttable(tree.pred ,High.test)\n",
    "\n",
    "\n",
    "\t## increase the number of nodes to see whether error increases or not\n",
    "\tprune.carseats =prune.misclass(tree.carseats,best=15)\n",
    "\tplot(prune.carseats)\n",
    "\ttext(prune.carseats ,pretty =0)\n",
    "\ttree.pred=predict(prune.carseats, Carseats.test ,type=\"class\")\n",
    "\ttable(tree.pred ,High.test)\n",
    "\n",
    "\n",
    "\n",
    "\t########################################\n",
    "\t## Fitting Regression Trees\n",
    "\n",
    "\n",
    "\n",
    "\n",
    "\n",
    "\tlibrary (MASS)\n",
    "\tnames(Boston)\n",
    "\n",
    "\tset.seed (1)\n",
    "\ttrain = sample (1: nrow(Boston ), nrow(Boston )/2)\n",
    "\ttree.boston =tree(medv~.,Boston ,subset =train)\n",
    "\tsummary (tree.boston )\n",
    "\n",
    "\n",
    "\n",
    "\tplot(tree.boston )\n",
    "\ttext(tree.boston ,pretty =0)\n",
    "\n",
    "\n",
    "\tcv.boston =cv.tree(tree.boston )   ## to see whether pruning the tree will improve performance \n",
    "\tplot(cv.boston$size,cv.boston$dev,type=\"b\")\n",
    "\n",
    "\n",
    "\tprune.boston =prune.tree(tree.boston,best =5)  ## prune the tree to have 5 nodes\n",
    "\tplot(prune.boston )\n",
    "\ttext(prune.boston ,pretty =0)\n",
    "\n",
    "\n",
    "\tyhat=predict (tree.boston ,newdata =Boston[-train ,])   ## use unpruned tree to predict\n",
    "\tboston.test=Boston[-train ,\"medv\"]\n",
    "\tplot(yhat ,boston.test)\n",
    "\tabline(0,1)\n",
    "\tmean((yhat -boston.test)^2)   ##  test MSE\n",
    "\n",
    "\n",
    "\n",
    "\n",
    "\n",
    "\n",
    "\n",
    "\n",
    "\t#####################\n",
    "\t##### bagging and random forest\n",
    "\t########################\n",
    "\n",
    "\n",
    "\tinstall.packages(\"randomForest\")\n",
    "\tlibrary(randomForest)  ## bagging and random forest in this package\n",
    "\tset.seed(1)\n",
    "\tbag.boston=randomForest(medv~.,data=Boston ,subset =train ,mtry=13, importance =TRUE)  ##mtry=13, the m in random forest: bagging\n",
    "\tbag.boston\n",
    "\n",
    "\n",
    "\tyhat.bag = predict (bag.boston ,newdata =Boston [-train ,])  ## calculate test MSE of bagging\n",
    "\tplot(yhat.bag , boston.test)\n",
    "\tabline (0,1)\n",
    "\tmean(( yhat.bag -boston.test)^2)\n",
    "\n",
    "\n",
    "\n",
    "\tbag.boston =randomForest(medv~.,data=Boston ,subset =train ,mtry=13, ntree =25)  ## ntree=25: specify the number of tree\n",
    "\tyhat.bag = predict(bag.boston ,newdata =Boston[-train ,])\n",
    "\tmean(( yhat.bag -boston.test)^2)\n",
    "\n",
    "\n",
    "\tset.seed (1)\n",
    "\trf.boston =randomForest(medv~.,data=Boston ,subset =train ,mtry=6, importance =TRUE) ## change mtry to 6\n",
    "\tyhat.rf = predict(rf.boston ,newdata =Boston[-train ,])\n",
    "\tmean(( yhat.rf -boston.test)^2)   ## test MSE is reduced\n",
    " \n",
    "\timportance(rf.boston )  ## show importance of variables:  lstat and rm are the most important two variables.\n",
    "\n",
    "\tvarImpPlot(rf.boston )  ## plot of importance of variables\n",
    "\n",
    "\n",
    "\n",
    "\n",
    "\n",
    "\t#####################\n",
    "\t##### boosting\n",
    "\t########################\n",
    "\n",
    "\n",
    "\n",
    "\tinstall.packages(\"gbm\")\n",
    "\tlibrary (gbm)  ## use gbm() to fit boosting\n",
    "\tset.seed (1)\n",
    "\tboost.boston =gbm(medv~.,data=Boston[train ,], distribution=\"gaussian\",n.trees =5000 , interaction.depth =4) ## distribution=gaussion for regression;bernoulli for classification\n",
    "\tsummary (boost.boston )\n",
    "\n",
    "\n",
    "\tpar(mfrow=c(1,2))\n",
    "\tplot(boost.boston ,i=\"rm\")   ## partial dependence plots of response against rm variable: integrating other variables out.\n",
    "\tplot(boost.boston ,i=\"lstat\")\n",
    "\n",
    "\tyhat.boost=predict (boost.boston ,newdata =Boston[-train ,],n.trees =5000)  ## predict\n",
    "\tmean(( yhat.boost -boston.test)^2)\n",
    "\n",
    "\n",
    "\t## we can change lambda: shringkage=0.2\n",
    "\tboost.boston =gbm(medv~.,data=Boston[train ,], distribution=\"gaussian\",n.trees =5000 , interaction.depth =4, shrinkage=0.2,verbose =F)\n",
    "\tyhat.boost=predict (boost.boston ,newdata =Boston [-train ,],n.trees =5000)\n",
    "\tmean(( yhat.boost -boston.test)^2)\n"
   ]
  },
  {
   "cell_type": "code",
   "execution_count": null,
   "metadata": {},
   "outputs": [],
   "source": []
  }
 ],
 "metadata": {
  "kernelspec": {
   "display_name": "R",
   "language": "R",
   "name": "ir"
  },
  "language_info": {
   "codemirror_mode": "r",
   "file_extension": ".r",
   "mimetype": "text/x-r-source",
   "name": "R",
   "pygments_lexer": "r",
   "version": "4.3.0"
  }
 },
 "nbformat": 4,
 "nbformat_minor": 4
}
